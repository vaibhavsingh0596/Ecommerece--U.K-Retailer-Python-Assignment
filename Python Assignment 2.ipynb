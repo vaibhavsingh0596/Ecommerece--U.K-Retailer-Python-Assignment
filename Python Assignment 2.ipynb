{
 "cells": [
  {
   "cell_type": "markdown",
   "id": "b18ae5bf",
   "metadata": {},
   "source": [
    "# Context of Data"
   ]
  },
  {
   "cell_type": "raw",
   "id": "d717a200",
   "metadata": {},
   "source": [
    "Company - UK-based and registered non-store online retail\n",
    "\n",
    "Products for selling - Mainly all-occasion gifts\n",
    "\n",
    "Customers - Most are wholesalers (local or international)\n",
    "\n",
    "Transactions Period - 1st Dec 2010 - 9th Dec 2011 (One year)"
   ]
  },
  {
   "cell_type": "code",
   "execution_count": 1,
   "id": "a52bd24f",
   "metadata": {},
   "outputs": [],
   "source": [
    "import pandas as pd \n",
    "import numpy as np \n",
    "import matplotlib.pyplot as plt\n",
    "import seaborn as sns \n",
    "\n",
    "import warnings\n",
    "# current version of seaborn generates a bunch of warnings that we'll ignore\n",
    "warnings.filterwarnings('ignore')\n",
    "sns.set_style('whitegrid')\n",
    "\n",
    "#import missingno as msno # missing data visualization module for Python\n",
    "#import pandas_profiling\n",
    "\n",
    "import gc\n",
    "import datetime\n",
    "\n",
    "%matplotlib inline"
   ]
  },
  {
   "cell_type": "code",
   "execution_count": 2,
   "id": "be6e63c8",
   "metadata": {},
   "outputs": [],
   "source": [
    "data = pd.read_csv('C:/Users/Dell/Desktop/Ecommerce - UK Retailer.csv')"
   ]
  },
  {
   "cell_type": "code",
   "execution_count": 3,
   "id": "35548e58",
   "metadata": {},
   "outputs": [
    {
     "data": {
      "text/html": [
       "<div>\n",
       "<style scoped>\n",
       "    .dataframe tbody tr th:only-of-type {\n",
       "        vertical-align: middle;\n",
       "    }\n",
       "\n",
       "    .dataframe tbody tr th {\n",
       "        vertical-align: top;\n",
       "    }\n",
       "\n",
       "    .dataframe thead th {\n",
       "        text-align: right;\n",
       "    }\n",
       "</style>\n",
       "<table border=\"1\" class=\"dataframe\">\n",
       "  <thead>\n",
       "    <tr style=\"text-align: right;\">\n",
       "      <th></th>\n",
       "      <th>InvoiceNo</th>\n",
       "      <th>StockCode</th>\n",
       "      <th>Description</th>\n",
       "      <th>Quantity</th>\n",
       "      <th>InvoiceDate</th>\n",
       "      <th>UnitPrice</th>\n",
       "      <th>CustomerID</th>\n",
       "      <th>Country</th>\n",
       "    </tr>\n",
       "  </thead>\n",
       "  <tbody>\n",
       "    <tr>\n",
       "      <th>0</th>\n",
       "      <td>536365</td>\n",
       "      <td>85123A</td>\n",
       "      <td>WHITE HANGING HEART T-LIGHT HOLDER</td>\n",
       "      <td>6</td>\n",
       "      <td>12/1/2010 8:26</td>\n",
       "      <td>2.55</td>\n",
       "      <td>17850.0</td>\n",
       "      <td>United Kingdom</td>\n",
       "    </tr>\n",
       "    <tr>\n",
       "      <th>1</th>\n",
       "      <td>536365</td>\n",
       "      <td>71053</td>\n",
       "      <td>WHITE METAL LANTERN</td>\n",
       "      <td>6</td>\n",
       "      <td>12/1/2010 8:26</td>\n",
       "      <td>3.39</td>\n",
       "      <td>17850.0</td>\n",
       "      <td>United Kingdom</td>\n",
       "    </tr>\n",
       "    <tr>\n",
       "      <th>2</th>\n",
       "      <td>536365</td>\n",
       "      <td>84406B</td>\n",
       "      <td>CREAM CUPID HEARTS COAT HANGER</td>\n",
       "      <td>8</td>\n",
       "      <td>12/1/2010 8:26</td>\n",
       "      <td>2.75</td>\n",
       "      <td>17850.0</td>\n",
       "      <td>United Kingdom</td>\n",
       "    </tr>\n",
       "    <tr>\n",
       "      <th>3</th>\n",
       "      <td>536365</td>\n",
       "      <td>84029G</td>\n",
       "      <td>KNITTED UNION FLAG HOT WATER BOTTLE</td>\n",
       "      <td>6</td>\n",
       "      <td>12/1/2010 8:26</td>\n",
       "      <td>3.39</td>\n",
       "      <td>17850.0</td>\n",
       "      <td>United Kingdom</td>\n",
       "    </tr>\n",
       "    <tr>\n",
       "      <th>4</th>\n",
       "      <td>536365</td>\n",
       "      <td>84029E</td>\n",
       "      <td>RED WOOLLY HOTTIE WHITE HEART.</td>\n",
       "      <td>6</td>\n",
       "      <td>12/1/2010 8:26</td>\n",
       "      <td>3.39</td>\n",
       "      <td>17850.0</td>\n",
       "      <td>United Kingdom</td>\n",
       "    </tr>\n",
       "  </tbody>\n",
       "</table>\n",
       "</div>"
      ],
      "text/plain": [
       "  InvoiceNo StockCode                          Description  Quantity  \\\n",
       "0    536365    85123A   WHITE HANGING HEART T-LIGHT HOLDER         6   \n",
       "1    536365     71053                  WHITE METAL LANTERN         6   \n",
       "2    536365    84406B       CREAM CUPID HEARTS COAT HANGER         8   \n",
       "3    536365    84029G  KNITTED UNION FLAG HOT WATER BOTTLE         6   \n",
       "4    536365    84029E       RED WOOLLY HOTTIE WHITE HEART.         6   \n",
       "\n",
       "      InvoiceDate  UnitPrice  CustomerID         Country  \n",
       "0  12/1/2010 8:26       2.55     17850.0  United Kingdom  \n",
       "1  12/1/2010 8:26       3.39     17850.0  United Kingdom  \n",
       "2  12/1/2010 8:26       2.75     17850.0  United Kingdom  \n",
       "3  12/1/2010 8:26       3.39     17850.0  United Kingdom  \n",
       "4  12/1/2010 8:26       3.39     17850.0  United Kingdom  "
      ]
     },
     "execution_count": 3,
     "metadata": {},
     "output_type": "execute_result"
    }
   ],
   "source": [
    "data.head()"
   ]
  },
  {
   "cell_type": "code",
   "execution_count": 4,
   "id": "311e3de9",
   "metadata": {},
   "outputs": [
    {
     "name": "stdout",
     "output_type": "stream",
     "text": [
      "<class 'pandas.core.frame.DataFrame'>\n",
      "RangeIndex: 541909 entries, 0 to 541908\n",
      "Data columns (total 8 columns):\n",
      " #   Column       Non-Null Count   Dtype  \n",
      "---  ------       --------------   -----  \n",
      " 0   InvoiceNo    541909 non-null  object \n",
      " 1   StockCode    541909 non-null  object \n",
      " 2   Description  540455 non-null  object \n",
      " 3   Quantity     541909 non-null  int64  \n",
      " 4   InvoiceDate  541909 non-null  object \n",
      " 5   UnitPrice    541909 non-null  float64\n",
      " 6   CustomerID   406829 non-null  float64\n",
      " 7   Country      541909 non-null  object \n",
      "dtypes: float64(2), int64(1), object(5)\n",
      "memory usage: 33.1+ MB\n"
     ]
    }
   ],
   "source": [
    "data.info()"
   ]
  },
  {
   "cell_type": "markdown",
   "id": "4b6eef41",
   "metadata": {},
   "source": [
    "# 1. Perform Basic EDA"
   ]
  },
  {
   "cell_type": "raw",
   "id": "2b34a7e5",
   "metadata": {},
   "source": [
    "a. Boxplot – All Numeric Variables"
   ]
  },
  {
   "cell_type": "code",
   "execution_count": 5,
   "id": "9f3acbb6",
   "metadata": {},
   "outputs": [
    {
     "data": {
      "image/png": "[encoded data removed]",
      "text/plain": [
       "<Figure size 432x288 with 1 Axes>"
      ]
     },
     "metadata": {
      "needs_background": "light"
     },
     "output_type": "display_data"
    }
   ],
   "source": [
    "sns.boxplot(data[\"UnitPrice\"]);"
   ]
  },
  {
   "cell_type": "code",
   "execution_count": 6,
   "id": "1979ff4c",
   "metadata": {},
   "outputs": [
    {
     "data": {
      "image/png": "[encoded data removed]",
      "text/plain": [
       "<Figure size 432x288 with 1 Axes>"
      ]
     },
     "metadata": {
      "needs_background": "light"
     },
     "output_type": "display_data"
    }
   ],
   "source": [
    "sns.boxplot(data[\"Quantity\"]);"
   ]
  },
  {
   "cell_type": "code",
   "execution_count": 7,
   "id": "7399cd6e",
   "metadata": {},
   "outputs": [
    {
     "data": {
      "image/png": "[encoded data removed]",
      "text/plain": [
       "<Figure size 432x288 with 1 Axes>"
      ]
     },
     "metadata": {
      "needs_background": "light"
     },
     "output_type": "display_data"
    }
   ],
   "source": [
    "sns.boxplot(data[\"CustomerID\"]);"
   ]
  },
  {
   "cell_type": "code",
   "execution_count": 8,
   "id": "09acb4f3",
   "metadata": {},
   "outputs": [
    {
     "data": {
      "image/png": "[encoded data removed]",
      "text/plain": [
       "<Figure size 432x288 with 1 Axes>"
      ]
     },
     "metadata": {
      "needs_background": "light"
     },
     "output_type": "display_data"
    }
   ],
   "source": [
    "data.boxplot(column=[\"UnitPrice\",\"Quantity\",\"CustomerID\"]);"
   ]
  },
  {
   "cell_type": "raw",
   "id": "5a74745c",
   "metadata": {},
   "source": [
    "b. Histogram – All Numeric Variables"
   ]
  },
  {
   "cell_type": "code",
   "execution_count": 155,
   "id": "45a0047a",
   "metadata": {},
   "outputs": [
    {
     "data": {
      "image/png": "[encoded data removed]",
      "text/plain": [
       "<Figure size 432x288 with 3 Axes>"
      ]
     },
     "metadata": {
      "needs_background": "light"
     },
     "output_type": "display_data"
    }
   ],
   "source": [
    "plt.subplot(2,2,1)\n",
    "plt.hist(data[\"UnitPrice\"])\n",
    "plt.show;\n",
    "plt.subplot(2,2,2)\n",
    "plt.hist(data[\"Quantity\"])\n",
    "plt.yticks(rotation=90)\n",
    "plt.show;\n",
    "plt.subplot(2,2,3)\n",
    "plt.hist(data[\"CustomerID\"])\n",
    "plt.show;\n"
   ]
  },
  {
   "cell_type": "raw",
   "id": "16f7ca0a",
   "metadata": {},
   "source": [
    "c. Distribution Plot – All Numeric Variables"
   ]
  },
  {
   "cell_type": "code",
   "execution_count": 156,
   "id": "16de592a",
   "metadata": {},
   "outputs": [
    {
     "data": {
      "image/png": "[encoded data removed]",
      "text/plain": [
       "<Figure size 432x288 with 1 Axes>"
      ]
     },
     "metadata": {
      "needs_background": "light"
     },
     "output_type": "display_data"
    }
   ],
   "source": [
    "sns.distplot(data.UnitPrice, kde=False);"
   ]
  },
  {
   "cell_type": "code",
   "execution_count": 157,
   "id": "3173807b",
   "metadata": {},
   "outputs": [
    {
     "data": {
      "image/png": "[encoded data removed]",
      "text/plain": [
       "<Figure size 432x288 with 1 Axes>"
      ]
     },
     "metadata": {
      "needs_background": "light"
     },
     "output_type": "display_data"
    }
   ],
   "source": [
    "sns.distplot(data.Quantity, kde=False);"
   ]
  },
  {
   "cell_type": "code",
   "execution_count": 158,
   "id": "63ec1526",
   "metadata": {},
   "outputs": [
    {
     "data": {
      "image/png": "[encoded data removed]",
      "text/plain": [
       "<Figure size 432x288 with 1 Axes>"
      ]
     },
     "metadata": {
      "needs_background": "light"
     },
     "output_type": "display_data"
    }
   ],
   "source": [
    "sns.distplot(data.CustomerID, kde=False);"
   ]
  },
  {
   "cell_type": "raw",
   "id": "59711d8d",
   "metadata": {},
   "source": [
    "d. Aggregation for all numerical Columns"
   ]
  },
  {
   "cell_type": "code",
   "execution_count": 9,
   "id": "b4cb1d8b",
   "metadata": {},
   "outputs": [
    {
     "data": {
      "text/html": [
       "<div>\n",
       "<style scoped>\n",
       "    .dataframe tbody tr th:only-of-type {\n",
       "        vertical-align: middle;\n",
       "    }\n",
       "\n",
       "    .dataframe tbody tr th {\n",
       "        vertical-align: top;\n",
       "    }\n",
       "\n",
       "    .dataframe thead th {\n",
       "        text-align: right;\n",
       "    }\n",
       "</style>\n",
       "<table border=\"1\" class=\"dataframe\">\n",
       "  <thead>\n",
       "    <tr style=\"text-align: right;\">\n",
       "      <th></th>\n",
       "      <th>Quantity</th>\n",
       "      <th>UnitPrice</th>\n",
       "      <th>CustomerID</th>\n",
       "    </tr>\n",
       "  </thead>\n",
       "  <tbody>\n",
       "    <tr>\n",
       "      <th>count</th>\n",
       "      <td>541909.000000</td>\n",
       "      <td>541909.000000</td>\n",
       "      <td>406829.000000</td>\n",
       "    </tr>\n",
       "    <tr>\n",
       "      <th>mean</th>\n",
       "      <td>9.552250</td>\n",
       "      <td>4.611114</td>\n",
       "      <td>15287.690570</td>\n",
       "    </tr>\n",
       "    <tr>\n",
       "      <th>std</th>\n",
       "      <td>218.081158</td>\n",
       "      <td>96.759853</td>\n",
       "      <td>1713.600303</td>\n",
       "    </tr>\n",
       "    <tr>\n",
       "      <th>min</th>\n",
       "      <td>-80995.000000</td>\n",
       "      <td>-11062.060000</td>\n",
       "      <td>12346.000000</td>\n",
       "    </tr>\n",
       "    <tr>\n",
       "      <th>25%</th>\n",
       "      <td>1.000000</td>\n",
       "      <td>1.250000</td>\n",
       "      <td>13953.000000</td>\n",
       "    </tr>\n",
       "    <tr>\n",
       "      <th>50%</th>\n",
       "      <td>3.000000</td>\n",
       "      <td>2.080000</td>\n",
       "      <td>15152.000000</td>\n",
       "    </tr>\n",
       "    <tr>\n",
       "      <th>75%</th>\n",
       "      <td>10.000000</td>\n",
       "      <td>4.130000</td>\n",
       "      <td>16791.000000</td>\n",
       "    </tr>\n",
       "    <tr>\n",
       "      <th>max</th>\n",
       "      <td>80995.000000</td>\n",
       "      <td>38970.000000</td>\n",
       "      <td>18287.000000</td>\n",
       "    </tr>\n",
       "  </tbody>\n",
       "</table>\n",
       "</div>"
      ],
      "text/plain": [
       "            Quantity      UnitPrice     CustomerID\n",
       "count  541909.000000  541909.000000  406829.000000\n",
       "mean        9.552250       4.611114   15287.690570\n",
       "std       218.081158      96.759853    1713.600303\n",
       "min    -80995.000000  -11062.060000   12346.000000\n",
       "25%         1.000000       1.250000   13953.000000\n",
       "50%         3.000000       2.080000   15152.000000\n",
       "75%        10.000000       4.130000   16791.000000\n",
       "max     80995.000000   38970.000000   18287.000000"
      ]
     },
     "execution_count": 9,
     "metadata": {},
     "output_type": "execute_result"
    }
   ],
   "source": [
    "data.describe()"
   ]
  },
  {
   "cell_type": "code",
   "execution_count": 10,
   "id": "70965bfe",
   "metadata": {},
   "outputs": [],
   "source": [
    "x=data[[\"UnitPrice\",\"Quantity\",\"CustomerID\"]]"
   ]
  },
  {
   "cell_type": "code",
   "execution_count": 11,
   "id": "efeb1076",
   "metadata": {},
   "outputs": [
    {
     "data": {
      "text/html": [
       "<div>\n",
       "<style scoped>\n",
       "    .dataframe tbody tr th:only-of-type {\n",
       "        vertical-align: middle;\n",
       "    }\n",
       "\n",
       "    .dataframe tbody tr th {\n",
       "        vertical-align: top;\n",
       "    }\n",
       "\n",
       "    .dataframe thead th {\n",
       "        text-align: right;\n",
       "    }\n",
       "</style>\n",
       "<table border=\"1\" class=\"dataframe\">\n",
       "  <thead>\n",
       "    <tr style=\"text-align: right;\">\n",
       "      <th></th>\n",
       "      <th>UnitPrice</th>\n",
       "      <th>Quantity</th>\n",
       "      <th>CustomerID</th>\n",
       "    </tr>\n",
       "  </thead>\n",
       "  <tbody>\n",
       "    <tr>\n",
       "      <th>0</th>\n",
       "      <td>2.55</td>\n",
       "      <td>6</td>\n",
       "      <td>17850.0</td>\n",
       "    </tr>\n",
       "    <tr>\n",
       "      <th>1</th>\n",
       "      <td>3.39</td>\n",
       "      <td>6</td>\n",
       "      <td>17850.0</td>\n",
       "    </tr>\n",
       "    <tr>\n",
       "      <th>2</th>\n",
       "      <td>2.75</td>\n",
       "      <td>8</td>\n",
       "      <td>17850.0</td>\n",
       "    </tr>\n",
       "    <tr>\n",
       "      <th>3</th>\n",
       "      <td>3.39</td>\n",
       "      <td>6</td>\n",
       "      <td>17850.0</td>\n",
       "    </tr>\n",
       "    <tr>\n",
       "      <th>4</th>\n",
       "      <td>3.39</td>\n",
       "      <td>6</td>\n",
       "      <td>17850.0</td>\n",
       "    </tr>\n",
       "  </tbody>\n",
       "</table>\n",
       "</div>"
      ],
      "text/plain": [
       "   UnitPrice  Quantity  CustomerID\n",
       "0       2.55         6     17850.0\n",
       "1       3.39         6     17850.0\n",
       "2       2.75         8     17850.0\n",
       "3       3.39         6     17850.0\n",
       "4       3.39         6     17850.0"
      ]
     },
     "execution_count": 11,
     "metadata": {},
     "output_type": "execute_result"
    }
   ],
   "source": [
    "x.head()"
   ]
  },
  {
   "cell_type": "code",
   "execution_count": 12,
   "id": "235762dd",
   "metadata": {},
   "outputs": [
    {
     "data": {
      "text/plain": [
       "UnitPrice     2.498804e+06\n",
       "Quantity      5.176450e+06\n",
       "CustomerID    6.219476e+09\n",
       "dtype: float64"
      ]
     },
     "execution_count": 12,
     "metadata": {},
     "output_type": "execute_result"
    }
   ],
   "source": [
    "x.sum()"
   ]
  },
  {
   "cell_type": "code",
   "execution_count": 13,
   "id": "6ecde8aa",
   "metadata": {},
   "outputs": [
    {
     "data": {
      "text/plain": [
       "UnitPrice         4.611114\n",
       "Quantity          9.552250\n",
       "CustomerID    15287.690570\n",
       "dtype: float64"
      ]
     },
     "execution_count": 13,
     "metadata": {},
     "output_type": "execute_result"
    }
   ],
   "source": [
    "x.mean()"
   ]
  },
  {
   "cell_type": "code",
   "execution_count": 14,
   "id": "063627ca",
   "metadata": {},
   "outputs": [
    {
     "data": {
      "text/plain": [
       "UnitPrice       96.759853\n",
       "Quantity       218.081158\n",
       "CustomerID    1713.600303\n",
       "dtype: float64"
      ]
     },
     "execution_count": 14,
     "metadata": {},
     "output_type": "execute_result"
    }
   ],
   "source": [
    "x.std()"
   ]
  },
  {
   "cell_type": "code",
   "execution_count": 15,
   "id": "68a2a9ca",
   "metadata": {},
   "outputs": [
    {
     "data": {
      "text/plain": [
       "UnitPrice     38970.0\n",
       "Quantity      80995.0\n",
       "CustomerID    18287.0\n",
       "dtype: float64"
      ]
     },
     "execution_count": 15,
     "metadata": {},
     "output_type": "execute_result"
    }
   ],
   "source": [
    "x.max()"
   ]
  },
  {
   "cell_type": "code",
   "execution_count": 16,
   "id": "2e87ba46",
   "metadata": {},
   "outputs": [
    {
     "data": {
      "text/plain": [
       "UnitPrice    -11062.06\n",
       "Quantity     -80995.00\n",
       "CustomerID    12346.00\n",
       "dtype: float64"
      ]
     },
     "execution_count": 16,
     "metadata": {},
     "output_type": "execute_result"
    }
   ],
   "source": [
    "x.min()"
   ]
  },
  {
   "cell_type": "raw",
   "id": "626fa891",
   "metadata": {},
   "source": [
    "e. Unique Values across all columns"
   ]
  },
  {
   "cell_type": "code",
   "execution_count": 17,
   "id": "acc06ea6",
   "metadata": {},
   "outputs": [
    {
     "name": "stdout",
     "output_type": "stream",
     "text": [
      "['536365' '536366' '536367' ... '581585' '581586' '581587']\n",
      "['85123A' '71053' '84406B' ... '90214U' '47591b' '23843']\n",
      "['WHITE HANGING HEART T-LIGHT HOLDER' 'WHITE METAL LANTERN'\n",
      " 'CREAM CUPID HEARTS COAT HANGER' ... 'lost'\n",
      " 'CREAM HANGING HEART T-LIGHT HOLDER' 'PAPER CRAFT , LITTLE BIRDIE']\n",
      "[     6      8      2     32      3      4     24     12     48     18\n",
      "     20     36     80     64     10    120     96     23      5      1\n",
      "     -1     50     40    100    192    432    144    288    -12    -24\n",
      "     16      9    128     25     30     28      7     56     72    200\n",
      "    600    480     -6     14     -2     11     33     13     -4     -5\n",
      "     -7     -3     70    252     60    216    384    -10     27     15\n",
      "     22     19     17     21     34     47    108     52  -9360    -38\n",
      "     75    270     42    240     90    320   1824    204     69    -36\n",
      "   -192   -144    160   2880   1400     39    -48    -50     26   1440\n",
      "     31     82     78     97     98     35     57    -20    110    -22\n",
      "    -30    -70   -130    -80   -120    -40    -25    -14    -15    -69\n",
      "   -140   -320     -8    720    156    324     38     37     49     95\n",
      "     -9    -11     29     41    -72    -35    -21    -43    -19    -18\n",
      "    -44    402    378    150    300     54    104     67    258     66\n",
      "     44     55     46     99     61    408    972    208   1008   1000\n",
      "    -77   1488    250   1394    400   -223   -150    -13    -33   -723\n",
      "   -177     79     84    -32   -100    -28    272   -145    -47    -96\n",
      "    113     45    106     68    267    115     65   1728    -60    -16\n",
      "     53   -240     76    460     71     43    213     58    576   2400\n",
      "    500    180   -300   -500    -23    752    960   1296    210    172\n",
      "    215    129    138    116    135    197   -106    -54    -17   -939\n",
      "    147    168    256   -201    -53    -29  -2600   -990   -290    -45\n",
      "    860   1010   1356   1284    186    114    360   1930   2000   3114\n",
      "   1300    670    111    211     59   -310    -61    -41    176    648\n",
      "     62  74215 -74215    -64    -84     89  -1400     73    -57    112\n",
      "    456    -59    -31   5568   2560    136    900   -600    -42    -94\n",
      "   -207    -52    130   -206   2592    420    800    101   1200    864\n",
      "   -217     94  -1430   1287   -162   -230   -173   -390   -234    504\n",
      "    123    118    -76   -200   1056   1500    280    407    141    124\n",
      "    -99     51    -92   -741   3906   -400   -114    102   1152    -88\n",
      "    198    117     86   -720    125    -86   -391    -87   -278    140\n",
      "    228   -154  -3000     81   -675   -210   -345   -975  -1200  -1121\n",
      "    -27   -541  -1277   -197   3000  -1100    -63  -5368    219   -259\n",
      "    232    -82   -178    170   -110    768     88    700   -102   2160\n",
      "   -323   -450   -232    -83   -153   -524  -2472    -49   -105    342\n",
      "    304    167    -34    640    175    220     74     93    164    163\n",
      "     63    637    122    158    165    350    -46    -75   -690    -39\n",
      "    -66     83    312   -180    392   -624   -194    -26    -62    -37\n",
      "    -91   -139   -158  -1479    -55   -576   -750    330    151    -93\n",
      "   -432    -58  -1092   -670  -1300  -1930  -2000  -3114    462    -65\n",
      "    -68    492   -620    273    -90   -170  -1512    -51     85    -56\n",
      "   -160   -360    105   -960  -2376   1350    428  -1350    336   -786\n",
      "   -590   -168   -101    -71    132   -413   -664    227   2700    222\n",
      "    246    906    756    888    552    -97    224    738    608   -212\n",
      "   4300    146    143    276   -125   -116   -108   4000   -304   -272\n",
      "  -1206    -95   1600    323   -161   -472   -618   -204   1515  -1515\n",
      "  -9058  -9600    660   -420   -126   -220   -271  -1440    264    188\n",
      "    588    612    152   -324   -480   -164    -78   -118    430  -1681\n",
      "     87    155    701    828    540    696    560   -250   -408   -179\n",
      "    121   -124    512   -251  -3100   3100   -169    126    291   3186\n",
      "  -2834   -109    109   -121   -530   -227    261   -346    352    142\n",
      "    107   -188  -1060   -342   -288    348   1900    157   -343   -455\n",
      "    425    968    684    824   -828   -701    196    248    410    236\n",
      "    230   -156   -553    145    448    245   -252   -334   -318   -113\n",
      "   -115    171   -242    840   -967   -203  -3167   -443  -1897    225\n",
      "   -434    750   -682   -484    682    344   -635   -117  -3667    450\n",
      "    310    494   -384     92   1788   -138    624    744    416    496\n",
      "    396    306   1878   1944    666    708   1428    852   1412    528\n",
      "   -756   -752   -152    -85   -312    -79   -147    -67   -131    183\n",
      "   -209   -186   -231   -129   -458   -275  -2880   1540    672   -800\n",
      "   -430   -380    -74   -840  -1296   -365   -104   -270    -73   -306\n",
      "     91    255    468   -468   -111   -184   -103   -335   4800   -112\n",
      "  -1000    912   1992    184    148   -657  -1671  -1158  -2618  -2003\n",
      "   -674  -4830   -905  -1128    832    992    630   1020   2100    162\n",
      "  -1560  -1284    -81    314    370    131    133    484    149    153\n",
      "    257    139    137    628    179   1820    478    335    253    242\n",
      "    375   -276   -256    281    193    181    404    244    207    199\n",
      "   1130    326    654    688    268    249   -864    234  -1510   -550\n",
      "   -244   -132   -327   -313    279   -398   -280    374   -504   -696\n",
      "   -149   -224   -428    212   -267   -175  12540    760    -98    774\n",
      "   -151   2040  -1131   -135   1120     77   -900    177    490    388\n",
      "    620   1404   -155   -355   -337  -1050   -338    205   -235    698\n",
      "  80995 -80995]\n",
      "['12/1/2010 8:26' '12/1/2010 8:28' '12/1/2010 8:34' ... '12/9/2011 12:31'\n",
      " '12/9/2011 12:49' '12/9/2011 12:50']\n",
      "[   2.55    3.39    2.75 ...  933.17 1714.17  224.69]\n",
      "[17850. 13047. 12583. ... 13298. 14569. 12713.]\n",
      "['United Kingdom' 'France' 'Australia' 'Netherlands' 'Germany' 'Norway'\n",
      " 'EIRE' 'Switzerland' 'Spain' 'Poland' 'Portugal' 'Italy' 'Belgium'\n",
      " 'Lithuania' 'Japan' 'Iceland' 'Channel Islands' 'Denmark' 'Cyprus'\n",
      " 'Sweden' 'Austria' 'Israel' 'Finland' 'Bahrain' 'Greece' 'Hong Kong'\n",
      " 'Singapore' 'Lebanon' 'United Arab Emirates' 'Saudi Arabia'\n",
      " 'Czech Republic' 'Canada' 'Unspecified' 'Brazil' 'USA'\n",
      " 'European Community' 'Malta' 'RSA']\n"
     ]
    }
   ],
   "source": [
    "for col in data:\n",
    "    print(data[col].unique())"
   ]
  },
  {
   "cell_type": "code",
   "execution_count": 18,
   "id": "0d42e437",
   "metadata": {},
   "outputs": [
    {
     "data": {
      "text/plain": [
       "InvoiceNo      541909\n",
       "StockCode      541909\n",
       "Description    540455\n",
       "Quantity       541909\n",
       "InvoiceDate    541909\n",
       "UnitPrice      541909\n",
       "CustomerID     406829\n",
       "Country        541909\n",
       "dtype: int64"
      ]
     },
     "execution_count": 18,
     "metadata": {},
     "output_type": "execute_result"
    }
   ],
   "source": [
    "data.count(axis=0)"
   ]
  },
  {
   "cell_type": "code",
   "execution_count": 19,
   "id": "4c08f6a5",
   "metadata": {},
   "outputs": [
    {
     "data": {
      "text/plain": [
       "InvoiceNo      25900\n",
       "StockCode       4070\n",
       "Description     4223\n",
       "Quantity         722\n",
       "InvoiceDate    23260\n",
       "UnitPrice       1630\n",
       "CustomerID      4372\n",
       "Country           38\n",
       "dtype: int64"
      ]
     },
     "execution_count": 19,
     "metadata": {},
     "output_type": "execute_result"
    }
   ],
   "source": [
    "data.nunique(axis=0)"
   ]
  },
  {
   "cell_type": "raw",
   "id": "3940e888",
   "metadata": {},
   "source": [
    "f. Duplicate values across all columns"
   ]
  },
  {
   "cell_type": "code",
   "execution_count": 20,
   "id": "92cdf1b7",
   "metadata": {},
   "outputs": [
    {
     "data": {
      "text/html": [
       "<div>\n",
       "<style scoped>\n",
       "    .dataframe tbody tr th:only-of-type {\n",
       "        vertical-align: middle;\n",
       "    }\n",
       "\n",
       "    .dataframe tbody tr th {\n",
       "        vertical-align: top;\n",
       "    }\n",
       "\n",
       "    .dataframe thead th {\n",
       "        text-align: right;\n",
       "    }\n",
       "</style>\n",
       "<table border=\"1\" class=\"dataframe\">\n",
       "  <thead>\n",
       "    <tr style=\"text-align: right;\">\n",
       "      <th></th>\n",
       "      <th>InvoiceNo</th>\n",
       "      <th>StockCode</th>\n",
       "      <th>Description</th>\n",
       "      <th>Quantity</th>\n",
       "      <th>InvoiceDate</th>\n",
       "      <th>UnitPrice</th>\n",
       "      <th>CustomerID</th>\n",
       "      <th>Country</th>\n",
       "    </tr>\n",
       "  </thead>\n",
       "  <tbody>\n",
       "    <tr>\n",
       "      <th>517</th>\n",
       "      <td>536409</td>\n",
       "      <td>21866</td>\n",
       "      <td>UNION JACK FLAG LUGGAGE TAG</td>\n",
       "      <td>1</td>\n",
       "      <td>12/1/2010 11:45</td>\n",
       "      <td>1.25</td>\n",
       "      <td>17908.0</td>\n",
       "      <td>United Kingdom</td>\n",
       "    </tr>\n",
       "    <tr>\n",
       "      <th>527</th>\n",
       "      <td>536409</td>\n",
       "      <td>22866</td>\n",
       "      <td>HAND WARMER SCOTTY DOG DESIGN</td>\n",
       "      <td>1</td>\n",
       "      <td>12/1/2010 11:45</td>\n",
       "      <td>2.10</td>\n",
       "      <td>17908.0</td>\n",
       "      <td>United Kingdom</td>\n",
       "    </tr>\n",
       "    <tr>\n",
       "      <th>537</th>\n",
       "      <td>536409</td>\n",
       "      <td>22900</td>\n",
       "      <td>SET 2 TEA TOWELS I LOVE LONDON</td>\n",
       "      <td>1</td>\n",
       "      <td>12/1/2010 11:45</td>\n",
       "      <td>2.95</td>\n",
       "      <td>17908.0</td>\n",
       "      <td>United Kingdom</td>\n",
       "    </tr>\n",
       "    <tr>\n",
       "      <th>539</th>\n",
       "      <td>536409</td>\n",
       "      <td>22111</td>\n",
       "      <td>SCOTTIE DOG HOT WATER BOTTLE</td>\n",
       "      <td>1</td>\n",
       "      <td>12/1/2010 11:45</td>\n",
       "      <td>4.95</td>\n",
       "      <td>17908.0</td>\n",
       "      <td>United Kingdom</td>\n",
       "    </tr>\n",
       "    <tr>\n",
       "      <th>555</th>\n",
       "      <td>536412</td>\n",
       "      <td>22327</td>\n",
       "      <td>ROUND SNACK BOXES SET OF 4 SKULLS</td>\n",
       "      <td>1</td>\n",
       "      <td>12/1/2010 11:49</td>\n",
       "      <td>2.95</td>\n",
       "      <td>17920.0</td>\n",
       "      <td>United Kingdom</td>\n",
       "    </tr>\n",
       "    <tr>\n",
       "      <th>...</th>\n",
       "      <td>...</td>\n",
       "      <td>...</td>\n",
       "      <td>...</td>\n",
       "      <td>...</td>\n",
       "      <td>...</td>\n",
       "      <td>...</td>\n",
       "      <td>...</td>\n",
       "      <td>...</td>\n",
       "    </tr>\n",
       "    <tr>\n",
       "      <th>541675</th>\n",
       "      <td>581538</td>\n",
       "      <td>22068</td>\n",
       "      <td>BLACK PIRATE TREASURE CHEST</td>\n",
       "      <td>1</td>\n",
       "      <td>12/9/2011 11:34</td>\n",
       "      <td>0.39</td>\n",
       "      <td>14446.0</td>\n",
       "      <td>United Kingdom</td>\n",
       "    </tr>\n",
       "    <tr>\n",
       "      <th>541689</th>\n",
       "      <td>581538</td>\n",
       "      <td>23318</td>\n",
       "      <td>BOX OF 6 MINI VINTAGE CRACKERS</td>\n",
       "      <td>1</td>\n",
       "      <td>12/9/2011 11:34</td>\n",
       "      <td>2.49</td>\n",
       "      <td>14446.0</td>\n",
       "      <td>United Kingdom</td>\n",
       "    </tr>\n",
       "    <tr>\n",
       "      <th>541692</th>\n",
       "      <td>581538</td>\n",
       "      <td>22992</td>\n",
       "      <td>REVOLVER WOODEN RULER</td>\n",
       "      <td>1</td>\n",
       "      <td>12/9/2011 11:34</td>\n",
       "      <td>1.95</td>\n",
       "      <td>14446.0</td>\n",
       "      <td>United Kingdom</td>\n",
       "    </tr>\n",
       "    <tr>\n",
       "      <th>541699</th>\n",
       "      <td>581538</td>\n",
       "      <td>22694</td>\n",
       "      <td>WICKER STAR</td>\n",
       "      <td>1</td>\n",
       "      <td>12/9/2011 11:34</td>\n",
       "      <td>2.10</td>\n",
       "      <td>14446.0</td>\n",
       "      <td>United Kingdom</td>\n",
       "    </tr>\n",
       "    <tr>\n",
       "      <th>541701</th>\n",
       "      <td>581538</td>\n",
       "      <td>23343</td>\n",
       "      <td>JUMBO BAG VINTAGE CHRISTMAS</td>\n",
       "      <td>1</td>\n",
       "      <td>12/9/2011 11:34</td>\n",
       "      <td>2.08</td>\n",
       "      <td>14446.0</td>\n",
       "      <td>United Kingdom</td>\n",
       "    </tr>\n",
       "  </tbody>\n",
       "</table>\n",
       "<p>5268 rows × 8 columns</p>\n",
       "</div>"
      ],
      "text/plain": [
       "       InvoiceNo StockCode                        Description  Quantity  \\\n",
       "517       536409     21866        UNION JACK FLAG LUGGAGE TAG         1   \n",
       "527       536409     22866      HAND WARMER SCOTTY DOG DESIGN         1   \n",
       "537       536409     22900    SET 2 TEA TOWELS I LOVE LONDON          1   \n",
       "539       536409     22111       SCOTTIE DOG HOT WATER BOTTLE         1   \n",
       "555       536412     22327  ROUND SNACK BOXES SET OF 4 SKULLS         1   \n",
       "...          ...       ...                                ...       ...   \n",
       "541675    581538     22068        BLACK PIRATE TREASURE CHEST         1   \n",
       "541689    581538     23318     BOX OF 6 MINI VINTAGE CRACKERS         1   \n",
       "541692    581538     22992             REVOLVER WOODEN RULER          1   \n",
       "541699    581538     22694                       WICKER STAR          1   \n",
       "541701    581538     23343       JUMBO BAG VINTAGE CHRISTMAS          1   \n",
       "\n",
       "            InvoiceDate  UnitPrice  CustomerID         Country  \n",
       "517     12/1/2010 11:45       1.25     17908.0  United Kingdom  \n",
       "527     12/1/2010 11:45       2.10     17908.0  United Kingdom  \n",
       "537     12/1/2010 11:45       2.95     17908.0  United Kingdom  \n",
       "539     12/1/2010 11:45       4.95     17908.0  United Kingdom  \n",
       "555     12/1/2010 11:49       2.95     17920.0  United Kingdom  \n",
       "...                 ...        ...         ...             ...  \n",
       "541675  12/9/2011 11:34       0.39     14446.0  United Kingdom  \n",
       "541689  12/9/2011 11:34       2.49     14446.0  United Kingdom  \n",
       "541692  12/9/2011 11:34       1.95     14446.0  United Kingdom  \n",
       "541699  12/9/2011 11:34       2.10     14446.0  United Kingdom  \n",
       "541701  12/9/2011 11:34       2.08     14446.0  United Kingdom  \n",
       "\n",
       "[5268 rows x 8 columns]"
      ]
     },
     "execution_count": 20,
     "metadata": {},
     "output_type": "execute_result"
    }
   ],
   "source": [
    "data[data.duplicated()]"
   ]
  },
  {
   "cell_type": "code",
   "execution_count": 21,
   "id": "b86c4696",
   "metadata": {},
   "outputs": [
    {
     "data": {
      "text/plain": [
       "(541909, 8)"
      ]
     },
     "execution_count": 21,
     "metadata": {},
     "output_type": "execute_result"
    }
   ],
   "source": [
    "data.shape"
   ]
  },
  {
   "cell_type": "code",
   "execution_count": 22,
   "id": "ec8d3494",
   "metadata": {},
   "outputs": [],
   "source": [
    "data=data.drop_duplicates(keep=False)"
   ]
  },
  {
   "cell_type": "code",
   "execution_count": 23,
   "id": "5499cb6e",
   "metadata": {},
   "outputs": [
    {
     "data": {
      "text/plain": [
       "(531762, 8)"
      ]
     },
     "execution_count": 23,
     "metadata": {},
     "output_type": "execute_result"
    }
   ],
   "source": [
    "data.shape"
   ]
  },
  {
   "cell_type": "code",
   "execution_count": 24,
   "id": "e42728e8",
   "metadata": {},
   "outputs": [
    {
     "data": {
      "text/html": [
       "<div>\n",
       "<style scoped>\n",
       "    .dataframe tbody tr th:only-of-type {\n",
       "        vertical-align: middle;\n",
       "    }\n",
       "\n",
       "    .dataframe tbody tr th {\n",
       "        vertical-align: top;\n",
       "    }\n",
       "\n",
       "    .dataframe thead th {\n",
       "        text-align: right;\n",
       "    }\n",
       "</style>\n",
       "<table border=\"1\" class=\"dataframe\">\n",
       "  <thead>\n",
       "    <tr style=\"text-align: right;\">\n",
       "      <th></th>\n",
       "      <th>InvoiceNo</th>\n",
       "      <th>StockCode</th>\n",
       "      <th>Description</th>\n",
       "      <th>Quantity</th>\n",
       "      <th>InvoiceDate</th>\n",
       "      <th>UnitPrice</th>\n",
       "      <th>CustomerID</th>\n",
       "      <th>Country</th>\n",
       "    </tr>\n",
       "  </thead>\n",
       "  <tbody>\n",
       "  </tbody>\n",
       "</table>\n",
       "</div>"
      ],
      "text/plain": [
       "Empty DataFrame\n",
       "Columns: [InvoiceNo, StockCode, Description, Quantity, InvoiceDate, UnitPrice, CustomerID, Country]\n",
       "Index: []"
      ]
     },
     "execution_count": 24,
     "metadata": {},
     "output_type": "execute_result"
    }
   ],
   "source": [
    "data[data.duplicated()]"
   ]
  },
  {
   "cell_type": "raw",
   "id": "a3efde8c",
   "metadata": {},
   "source": [
    "g. Correlation – Heatmap - All Numeric Variables"
   ]
  },
  {
   "cell_type": "code",
   "execution_count": 175,
   "id": "ed579344",
   "metadata": {},
   "outputs": [
    {
     "data": {
      "image/png": "[encoded data removed]",
      "text/plain": [
       "<Figure size 432x288 with 2 Axes>"
      ]
     },
     "metadata": {
      "needs_background": "light"
     },
     "output_type": "display_data"
    }
   ],
   "source": [
    "sns.heatmap(data.corr(), annot = True, linewidth=0.5,cmap='Greens')\n",
    "plt.show()"
   ]
  },
  {
   "cell_type": "raw",
   "id": "41dbe684",
   "metadata": {},
   "source": [
    "h. Regression Plot - All Numeric Variables \n"
   ]
  },
  {
   "cell_type": "code",
   "execution_count": 239,
   "id": "68edd061",
   "metadata": {},
   "outputs": [
    {
     "data": {
      "text/plain": [
       "Text(0.5, 1.0, 'PRICE VS QUANTITY RELATION')"
      ]
     },
     "execution_count": 239,
     "metadata": {},
     "output_type": "execute_result"
    },
    {
     "data": {
      "image/png": "[encoded data removed]",
      "text/plain": [
       "<Figure size 720x720 with 1 Axes>"
      ]
     },
     "metadata": {
      "needs_background": "light"
     },
     "output_type": "display_data"
    }
   ],
   "source": [
    "plt.figure(figsize =(10,10))\n",
    "sns.regplot(data=data, x= \"Quantity\", y =\"UnitPrice\")\n",
    "plt.title('PRICE VS QUANTITY RELATION')"
   ]
  },
  {
   "cell_type": "raw",
   "id": "97df1f3f",
   "metadata": {},
   "source": [
    "i. Bar Plot – Every Categorical Variable vs every Numerical Variable \n"
   ]
  },
  {
   "cell_type": "code",
   "execution_count": 74,
   "id": "85f1167c",
   "metadata": {},
   "outputs": [
    {
     "data": {
      "image/png": "[encoded data removed]",
      "text/plain": [
       "<Figure size 432x288 with 1 Axes>"
      ]
     },
     "metadata": {
      "needs_background": "light"
     },
     "output_type": "display_data"
    }
   ],
   "source": [
    "# Bar Plot \n",
    "result=data.groupby('Month').sum()\n",
    "month=range(1,13)\n",
    "plt.bar(month,result['Amount_Spent'])\n",
    "plt.xticks(month)\n",
    "plt.xlabel('month in number')\n",
    "plt.ylabel('Money spent (Dollar)')\n",
    "plt.show()"
   ]
  },
  {
   "cell_type": "raw",
   "id": "0b73249f",
   "metadata": {},
   "source": [
    "j make a pair plot of all numerical data.\n"
   ]
  },
  {
   "cell_type": "code",
   "execution_count": null,
   "id": "9f1c53c1",
   "metadata": {},
   "outputs": [],
   "source": [
    "sns.pairplot(data,vars=[\"Quantity\",\"UnitPrice\",\"CustomerId\"])\n",
    "plt.show()"
   ]
  },
  {
   "cell_type": "code",
   "execution_count": 73,
   "id": "33bc971e",
   "metadata": {},
   "outputs": [
    {
     "data": {
      "image/png": "[encoded data removed]",
      "text/plain": [
       "<Figure size 432x288 with 1 Axes>"
      ]
     },
     "metadata": {
      "needs_background": "light"
     },
     "output_type": "display_data"
    }
   ],
   "source": [
    "k. Line chart to show the trend of data \n",
    "\n",
    "plt.plot(data['Day'],data['Amount_Spent'])\n",
    "plt.xlabel('Day')\n",
    "plt.ylabel('Amount_Spent')\n",
    "plt.show()"
   ]
  },
  {
   "cell_type": "markdown",
   "id": "ba3ede33",
   "metadata": {},
   "source": [
    "# 2. Check for missing values in all columns and replace them with the appropriate metric (Mean/Median/Mode)"
   ]
  },
  {
   "cell_type": "code",
   "execution_count": 25,
   "id": "b6a5b7eb",
   "metadata": {},
   "outputs": [
    {
     "data": {
      "text/plain": [
       "CustomerID     134995\n",
       "Description      1454\n",
       "InvoiceNo           0\n",
       "StockCode           0\n",
       "Quantity            0\n",
       "InvoiceDate         0\n",
       "UnitPrice           0\n",
       "Country             0\n",
       "dtype: int64"
      ]
     },
     "execution_count": 25,
     "metadata": {},
     "output_type": "execute_result"
    }
   ],
   "source": [
    "data.isnull().sum().sort_values(ascending=False)"
   ]
  },
  {
   "cell_type": "code",
   "execution_count": 26,
   "id": "68570a61",
   "metadata": {},
   "outputs": [
    {
     "data": {
      "text/plain": [
       "<AxesSubplot:xlabel='CustomerID'>"
      ]
     },
     "execution_count": 26,
     "metadata": {},
     "output_type": "execute_result"
    },
    {
     "data": {
      "image/png": "[encoded data removed]",
      "text/plain": [
       "<Figure size 432x288 with 1 Axes>"
      ]
     },
     "metadata": {
      "needs_background": "light"
     },
     "output_type": "display_data"
    }
   ],
   "source": [
    "sns.boxplot(data[\"CustomerID\"])"
   ]
  },
  {
   "cell_type": "code",
   "execution_count": 27,
   "id": "a65e966c",
   "metadata": {},
   "outputs": [
    {
     "data": {
      "text/plain": [
       "<AxesSubplot:xlabel='CustomerID', ylabel='Density'>"
      ]
     },
     "execution_count": 27,
     "metadata": {},
     "output_type": "execute_result"
    },
    {
     "data": {
      "image/png": "[encoded data removed]",
      "text/plain": [
       "<Figure size 432x288 with 1 Axes>"
      ]
     },
     "metadata": {
      "needs_background": "light"
     },
     "output_type": "display_data"
    }
   ],
   "source": [
    "sns.distplot(data[\"CustomerID\"])"
   ]
  },
  {
   "cell_type": "markdown",
   "id": "3d847efe",
   "metadata": {},
   "source": [
    "As the data distribution is symmetric the appropriate metric is mean .So, we have to replace missing values with mean"
   ]
  },
  {
   "cell_type": "code",
   "execution_count": 28,
   "id": "0842aac5",
   "metadata": {},
   "outputs": [
    {
     "data": {
      "text/plain": [
       "float"
      ]
     },
     "execution_count": 28,
     "metadata": {},
     "output_type": "execute_result"
    }
   ],
   "source": [
    "x=data[\"CustomerID\"].mean()\n",
    "type(x)"
   ]
  },
  {
   "cell_type": "code",
   "execution_count": 29,
   "id": "782989e6",
   "metadata": {},
   "outputs": [
    {
     "data": {
      "text/plain": [
       "15275"
      ]
     },
     "execution_count": 29,
     "metadata": {},
     "output_type": "execute_result"
    }
   ],
   "source": [
    "int(x)"
   ]
  },
  {
   "cell_type": "code",
   "execution_count": 30,
   "id": "e07bb26b",
   "metadata": {},
   "outputs": [],
   "source": [
    "data['CustomerID']=data[\"CustomerID\"].fillna(x)"
   ]
  },
  {
   "cell_type": "code",
   "execution_count": 31,
   "id": "1c85746a",
   "metadata": {},
   "outputs": [
    {
     "data": {
      "text/plain": [
       "InvoiceNo         0\n",
       "StockCode         0\n",
       "Description    1454\n",
       "Quantity          0\n",
       "InvoiceDate       0\n",
       "UnitPrice         0\n",
       "CustomerID        0\n",
       "Country           0\n",
       "dtype: int64"
      ]
     },
     "execution_count": 31,
     "metadata": {},
     "output_type": "execute_result"
    }
   ],
   "source": [
    "data.isnull().sum()"
   ]
  },
  {
   "cell_type": "code",
   "execution_count": 32,
   "id": "7ef5baa7",
   "metadata": {},
   "outputs": [],
   "source": [
    "data.dropna(inplace=True)"
   ]
  },
  {
   "cell_type": "code",
   "execution_count": 33,
   "id": "b0e65964",
   "metadata": {},
   "outputs": [
    {
     "data": {
      "text/plain": [
       "InvoiceNo      0\n",
       "StockCode      0\n",
       "Description    0\n",
       "Quantity       0\n",
       "InvoiceDate    0\n",
       "UnitPrice      0\n",
       "CustomerID     0\n",
       "Country        0\n",
       "dtype: int64"
      ]
     },
     "execution_count": 33,
     "metadata": {},
     "output_type": "execute_result"
    }
   ],
   "source": [
    "data.isnull().sum()"
   ]
  },
  {
   "cell_type": "markdown",
   "id": "a340d52c",
   "metadata": {},
   "source": [
    "# 3. Remove duplicate rows"
   ]
  },
  {
   "cell_type": "code",
   "execution_count": 34,
   "id": "7a405171",
   "metadata": {},
   "outputs": [
    {
     "data": {
      "text/html": [
       "<div>\n",
       "<style scoped>\n",
       "    .dataframe tbody tr th:only-of-type {\n",
       "        vertical-align: middle;\n",
       "    }\n",
       "\n",
       "    .dataframe tbody tr th {\n",
       "        vertical-align: top;\n",
       "    }\n",
       "\n",
       "    .dataframe thead th {\n",
       "        text-align: right;\n",
       "    }\n",
       "</style>\n",
       "<table border=\"1\" class=\"dataframe\">\n",
       "  <thead>\n",
       "    <tr style=\"text-align: right;\">\n",
       "      <th></th>\n",
       "      <th>InvoiceNo</th>\n",
       "      <th>StockCode</th>\n",
       "      <th>Description</th>\n",
       "      <th>Quantity</th>\n",
       "      <th>InvoiceDate</th>\n",
       "      <th>UnitPrice</th>\n",
       "      <th>CustomerID</th>\n",
       "      <th>Country</th>\n",
       "    </tr>\n",
       "  </thead>\n",
       "  <tbody>\n",
       "  </tbody>\n",
       "</table>\n",
       "</div>"
      ],
      "text/plain": [
       "Empty DataFrame\n",
       "Columns: [InvoiceNo, StockCode, Description, Quantity, InvoiceDate, UnitPrice, CustomerID, Country]\n",
       "Index: []"
      ]
     },
     "execution_count": 34,
     "metadata": {},
     "output_type": "execute_result"
    }
   ],
   "source": [
    "data[data.duplicated()]"
   ]
  },
  {
   "cell_type": "markdown",
   "id": "d24f1b39",
   "metadata": {},
   "source": [
    "# 4. Remove rows which have negative values in Quantity column"
   ]
  },
  {
   "cell_type": "code",
   "execution_count": 35,
   "id": "eda2be65",
   "metadata": {},
   "outputs": [
    {
     "data": {
      "text/plain": [
       "9693"
      ]
     },
     "execution_count": 35,
     "metadata": {},
     "output_type": "execute_result"
    }
   ],
   "source": [
    "(data[\"Quantity\"]<0).sum()"
   ]
  },
  {
   "cell_type": "code",
   "execution_count": 36,
   "id": "644f57eb",
   "metadata": {},
   "outputs": [],
   "source": [
    "data.drop(data[data[\"Quantity\"]<0].index,inplace=True)"
   ]
  },
  {
   "cell_type": "code",
   "execution_count": 37,
   "id": "c53862ca",
   "metadata": {},
   "outputs": [
    {
     "data": {
      "text/plain": [
       "(520615, 8)"
      ]
     },
     "execution_count": 37,
     "metadata": {},
     "output_type": "execute_result"
    }
   ],
   "source": [
    "data.shape"
   ]
  },
  {
   "cell_type": "markdown",
   "id": "27026a0a",
   "metadata": {},
   "source": [
    "# 5. Add the columns - Month, Day and Hour for the invoice"
   ]
  },
  {
   "cell_type": "code",
   "execution_count": 38,
   "id": "4a8dcfc5",
   "metadata": {},
   "outputs": [
    {
     "data": {
      "text/html": [
       "<div>\n",
       "<style scoped>\n",
       "    .dataframe tbody tr th:only-of-type {\n",
       "        vertical-align: middle;\n",
       "    }\n",
       "\n",
       "    .dataframe tbody tr th {\n",
       "        vertical-align: top;\n",
       "    }\n",
       "\n",
       "    .dataframe thead th {\n",
       "        text-align: right;\n",
       "    }\n",
       "</style>\n",
       "<table border=\"1\" class=\"dataframe\">\n",
       "  <thead>\n",
       "    <tr style=\"text-align: right;\">\n",
       "      <th></th>\n",
       "      <th>InvoiceNo</th>\n",
       "      <th>StockCode</th>\n",
       "      <th>Description</th>\n",
       "      <th>Quantity</th>\n",
       "      <th>InvoiceDate</th>\n",
       "      <th>UnitPrice</th>\n",
       "      <th>CustomerID</th>\n",
       "      <th>Country</th>\n",
       "    </tr>\n",
       "  </thead>\n",
       "  <tbody>\n",
       "    <tr>\n",
       "      <th>0</th>\n",
       "      <td>536365</td>\n",
       "      <td>85123A</td>\n",
       "      <td>WHITE HANGING HEART T-LIGHT HOLDER</td>\n",
       "      <td>6</td>\n",
       "      <td>12/1/2010 8:26</td>\n",
       "      <td>2.55</td>\n",
       "      <td>17850.0</td>\n",
       "      <td>United Kingdom</td>\n",
       "    </tr>\n",
       "    <tr>\n",
       "      <th>1</th>\n",
       "      <td>536365</td>\n",
       "      <td>71053</td>\n",
       "      <td>WHITE METAL LANTERN</td>\n",
       "      <td>6</td>\n",
       "      <td>12/1/2010 8:26</td>\n",
       "      <td>3.39</td>\n",
       "      <td>17850.0</td>\n",
       "      <td>United Kingdom</td>\n",
       "    </tr>\n",
       "    <tr>\n",
       "      <th>2</th>\n",
       "      <td>536365</td>\n",
       "      <td>84406B</td>\n",
       "      <td>CREAM CUPID HEARTS COAT HANGER</td>\n",
       "      <td>8</td>\n",
       "      <td>12/1/2010 8:26</td>\n",
       "      <td>2.75</td>\n",
       "      <td>17850.0</td>\n",
       "      <td>United Kingdom</td>\n",
       "    </tr>\n",
       "    <tr>\n",
       "      <th>3</th>\n",
       "      <td>536365</td>\n",
       "      <td>84029G</td>\n",
       "      <td>KNITTED UNION FLAG HOT WATER BOTTLE</td>\n",
       "      <td>6</td>\n",
       "      <td>12/1/2010 8:26</td>\n",
       "      <td>3.39</td>\n",
       "      <td>17850.0</td>\n",
       "      <td>United Kingdom</td>\n",
       "    </tr>\n",
       "    <tr>\n",
       "      <th>4</th>\n",
       "      <td>536365</td>\n",
       "      <td>84029E</td>\n",
       "      <td>RED WOOLLY HOTTIE WHITE HEART.</td>\n",
       "      <td>6</td>\n",
       "      <td>12/1/2010 8:26</td>\n",
       "      <td>3.39</td>\n",
       "      <td>17850.0</td>\n",
       "      <td>United Kingdom</td>\n",
       "    </tr>\n",
       "  </tbody>\n",
       "</table>\n",
       "</div>"
      ],
      "text/plain": [
       "  InvoiceNo StockCode                          Description  Quantity  \\\n",
       "0    536365    85123A   WHITE HANGING HEART T-LIGHT HOLDER         6   \n",
       "1    536365     71053                  WHITE METAL LANTERN         6   \n",
       "2    536365    84406B       CREAM CUPID HEARTS COAT HANGER         8   \n",
       "3    536365    84029G  KNITTED UNION FLAG HOT WATER BOTTLE         6   \n",
       "4    536365    84029E       RED WOOLLY HOTTIE WHITE HEART.         6   \n",
       "\n",
       "      InvoiceDate  UnitPrice  CustomerID         Country  \n",
       "0  12/1/2010 8:26       2.55     17850.0  United Kingdom  \n",
       "1  12/1/2010 8:26       3.39     17850.0  United Kingdom  \n",
       "2  12/1/2010 8:26       2.75     17850.0  United Kingdom  \n",
       "3  12/1/2010 8:26       3.39     17850.0  United Kingdom  \n",
       "4  12/1/2010 8:26       3.39     17850.0  United Kingdom  "
      ]
     },
     "execution_count": 38,
     "metadata": {},
     "output_type": "execute_result"
    }
   ],
   "source": [
    "data.head()"
   ]
  },
  {
   "cell_type": "code",
   "execution_count": 39,
   "id": "d431d942",
   "metadata": {},
   "outputs": [],
   "source": [
    "import datetime as dt"
   ]
  },
  {
   "cell_type": "code",
   "execution_count": 40,
   "id": "75df3ecb",
   "metadata": {},
   "outputs": [
    {
     "data": {
      "text/html": [
       "<div>\n",
       "<style scoped>\n",
       "    .dataframe tbody tr th:only-of-type {\n",
       "        vertical-align: middle;\n",
       "    }\n",
       "\n",
       "    .dataframe tbody tr th {\n",
       "        vertical-align: top;\n",
       "    }\n",
       "\n",
       "    .dataframe thead th {\n",
       "        text-align: right;\n",
       "    }\n",
       "</style>\n",
       "<table border=\"1\" class=\"dataframe\">\n",
       "  <thead>\n",
       "    <tr style=\"text-align: right;\">\n",
       "      <th></th>\n",
       "      <th>InvoiceNo</th>\n",
       "      <th>StockCode</th>\n",
       "      <th>Description</th>\n",
       "      <th>Quantity</th>\n",
       "      <th>InvoiceDate</th>\n",
       "      <th>UnitPrice</th>\n",
       "      <th>CustomerID</th>\n",
       "      <th>Country</th>\n",
       "    </tr>\n",
       "  </thead>\n",
       "  <tbody>\n",
       "    <tr>\n",
       "      <th>0</th>\n",
       "      <td>536365</td>\n",
       "      <td>85123A</td>\n",
       "      <td>WHITE HANGING HEART T-LIGHT HOLDER</td>\n",
       "      <td>6</td>\n",
       "      <td>12/1/2010 8:26</td>\n",
       "      <td>2.55</td>\n",
       "      <td>17850.0</td>\n",
       "      <td>United Kingdom</td>\n",
       "    </tr>\n",
       "    <tr>\n",
       "      <th>1</th>\n",
       "      <td>536365</td>\n",
       "      <td>71053</td>\n",
       "      <td>WHITE METAL LANTERN</td>\n",
       "      <td>6</td>\n",
       "      <td>12/1/2010 8:26</td>\n",
       "      <td>3.39</td>\n",
       "      <td>17850.0</td>\n",
       "      <td>United Kingdom</td>\n",
       "    </tr>\n",
       "    <tr>\n",
       "      <th>2</th>\n",
       "      <td>536365</td>\n",
       "      <td>84406B</td>\n",
       "      <td>CREAM CUPID HEARTS COAT HANGER</td>\n",
       "      <td>8</td>\n",
       "      <td>12/1/2010 8:26</td>\n",
       "      <td>2.75</td>\n",
       "      <td>17850.0</td>\n",
       "      <td>United Kingdom</td>\n",
       "    </tr>\n",
       "    <tr>\n",
       "      <th>3</th>\n",
       "      <td>536365</td>\n",
       "      <td>84029G</td>\n",
       "      <td>KNITTED UNION FLAG HOT WATER BOTTLE</td>\n",
       "      <td>6</td>\n",
       "      <td>12/1/2010 8:26</td>\n",
       "      <td>3.39</td>\n",
       "      <td>17850.0</td>\n",
       "      <td>United Kingdom</td>\n",
       "    </tr>\n",
       "    <tr>\n",
       "      <th>4</th>\n",
       "      <td>536365</td>\n",
       "      <td>84029E</td>\n",
       "      <td>RED WOOLLY HOTTIE WHITE HEART.</td>\n",
       "      <td>6</td>\n",
       "      <td>12/1/2010 8:26</td>\n",
       "      <td>3.39</td>\n",
       "      <td>17850.0</td>\n",
       "      <td>United Kingdom</td>\n",
       "    </tr>\n",
       "  </tbody>\n",
       "</table>\n",
       "</div>"
      ],
      "text/plain": [
       "  InvoiceNo StockCode                          Description  Quantity  \\\n",
       "0    536365    85123A   WHITE HANGING HEART T-LIGHT HOLDER         6   \n",
       "1    536365     71053                  WHITE METAL LANTERN         6   \n",
       "2    536365    84406B       CREAM CUPID HEARTS COAT HANGER         8   \n",
       "3    536365    84029G  KNITTED UNION FLAG HOT WATER BOTTLE         6   \n",
       "4    536365    84029E       RED WOOLLY HOTTIE WHITE HEART.         6   \n",
       "\n",
       "      InvoiceDate  UnitPrice  CustomerID         Country  \n",
       "0  12/1/2010 8:26       2.55     17850.0  United Kingdom  \n",
       "1  12/1/2010 8:26       3.39     17850.0  United Kingdom  \n",
       "2  12/1/2010 8:26       2.75     17850.0  United Kingdom  \n",
       "3  12/1/2010 8:26       3.39     17850.0  United Kingdom  \n",
       "4  12/1/2010 8:26       3.39     17850.0  United Kingdom  "
      ]
     },
     "execution_count": 40,
     "metadata": {},
     "output_type": "execute_result"
    }
   ],
   "source": [
    "data.head()"
   ]
  },
  {
   "cell_type": "code",
   "execution_count": 41,
   "id": "82756dbe",
   "metadata": {},
   "outputs": [],
   "source": [
    "data['InvoiceDate'] = pd.to_datetime(data.InvoiceDate, format='%m/%d/%Y %H:%M')"
   ]
  },
  {
   "cell_type": "code",
   "execution_count": 42,
   "id": "cf53a51c",
   "metadata": {},
   "outputs": [],
   "source": [
    "data.insert(loc=2, column='Year_month', value=data['InvoiceDate'].map(lambda x: 100*x.year + x.month))\n",
    "data.insert(loc=3, column='Month', value=data.InvoiceDate.dt.month)\n",
    "# +1 to make Monday=1.....until Sunday=7\n",
    "data.insert(loc=4, column='Day', value=(data.InvoiceDate.dt.dayofweek)+1)\n",
    "data.insert(loc=5, column='Hour', value=data.InvoiceDate.dt.hour)"
   ]
  },
  {
   "cell_type": "code",
   "execution_count": 43,
   "id": "bc2510df",
   "metadata": {},
   "outputs": [
    {
     "data": {
      "text/html": [
       "<div>\n",
       "<style scoped>\n",
       "    .dataframe tbody tr th:only-of-type {\n",
       "        vertical-align: middle;\n",
       "    }\n",
       "\n",
       "    .dataframe tbody tr th {\n",
       "        vertical-align: top;\n",
       "    }\n",
       "\n",
       "    .dataframe thead th {\n",
       "        text-align: right;\n",
       "    }\n",
       "</style>\n",
       "<table border=\"1\" class=\"dataframe\">\n",
       "  <thead>\n",
       "    <tr style=\"text-align: right;\">\n",
       "      <th></th>\n",
       "      <th>InvoiceNo</th>\n",
       "      <th>StockCode</th>\n",
       "      <th>Year_month</th>\n",
       "      <th>Month</th>\n",
       "      <th>Day</th>\n",
       "      <th>Hour</th>\n",
       "      <th>Description</th>\n",
       "      <th>Quantity</th>\n",
       "      <th>InvoiceDate</th>\n",
       "      <th>UnitPrice</th>\n",
       "      <th>CustomerID</th>\n",
       "      <th>Country</th>\n",
       "    </tr>\n",
       "  </thead>\n",
       "  <tbody>\n",
       "    <tr>\n",
       "      <th>0</th>\n",
       "      <td>536365</td>\n",
       "      <td>85123A</td>\n",
       "      <td>201012</td>\n",
       "      <td>12</td>\n",
       "      <td>3</td>\n",
       "      <td>8</td>\n",
       "      <td>WHITE HANGING HEART T-LIGHT HOLDER</td>\n",
       "      <td>6</td>\n",
       "      <td>2010-12-01 08:26:00</td>\n",
       "      <td>2.55</td>\n",
       "      <td>17850.0</td>\n",
       "      <td>United Kingdom</td>\n",
       "    </tr>\n",
       "    <tr>\n",
       "      <th>1</th>\n",
       "      <td>536365</td>\n",
       "      <td>71053</td>\n",
       "      <td>201012</td>\n",
       "      <td>12</td>\n",
       "      <td>3</td>\n",
       "      <td>8</td>\n",
       "      <td>WHITE METAL LANTERN</td>\n",
       "      <td>6</td>\n",
       "      <td>2010-12-01 08:26:00</td>\n",
       "      <td>3.39</td>\n",
       "      <td>17850.0</td>\n",
       "      <td>United Kingdom</td>\n",
       "    </tr>\n",
       "    <tr>\n",
       "      <th>2</th>\n",
       "      <td>536365</td>\n",
       "      <td>84406B</td>\n",
       "      <td>201012</td>\n",
       "      <td>12</td>\n",
       "      <td>3</td>\n",
       "      <td>8</td>\n",
       "      <td>CREAM CUPID HEARTS COAT HANGER</td>\n",
       "      <td>8</td>\n",
       "      <td>2010-12-01 08:26:00</td>\n",
       "      <td>2.75</td>\n",
       "      <td>17850.0</td>\n",
       "      <td>United Kingdom</td>\n",
       "    </tr>\n",
       "    <tr>\n",
       "      <th>3</th>\n",
       "      <td>536365</td>\n",
       "      <td>84029G</td>\n",
       "      <td>201012</td>\n",
       "      <td>12</td>\n",
       "      <td>3</td>\n",
       "      <td>8</td>\n",
       "      <td>KNITTED UNION FLAG HOT WATER BOTTLE</td>\n",
       "      <td>6</td>\n",
       "      <td>2010-12-01 08:26:00</td>\n",
       "      <td>3.39</td>\n",
       "      <td>17850.0</td>\n",
       "      <td>United Kingdom</td>\n",
       "    </tr>\n",
       "    <tr>\n",
       "      <th>4</th>\n",
       "      <td>536365</td>\n",
       "      <td>84029E</td>\n",
       "      <td>201012</td>\n",
       "      <td>12</td>\n",
       "      <td>3</td>\n",
       "      <td>8</td>\n",
       "      <td>RED WOOLLY HOTTIE WHITE HEART.</td>\n",
       "      <td>6</td>\n",
       "      <td>2010-12-01 08:26:00</td>\n",
       "      <td>3.39</td>\n",
       "      <td>17850.0</td>\n",
       "      <td>United Kingdom</td>\n",
       "    </tr>\n",
       "  </tbody>\n",
       "</table>\n",
       "</div>"
      ],
      "text/plain": [
       "  InvoiceNo StockCode  Year_month  Month  Day  Hour  \\\n",
       "0    536365    85123A      201012     12    3     8   \n",
       "1    536365     71053      201012     12    3     8   \n",
       "2    536365    84406B      201012     12    3     8   \n",
       "3    536365    84029G      201012     12    3     8   \n",
       "4    536365    84029E      201012     12    3     8   \n",
       "\n",
       "                           Description  Quantity         InvoiceDate  \\\n",
       "0   WHITE HANGING HEART T-LIGHT HOLDER         6 2010-12-01 08:26:00   \n",
       "1                  WHITE METAL LANTERN         6 2010-12-01 08:26:00   \n",
       "2       CREAM CUPID HEARTS COAT HANGER         8 2010-12-01 08:26:00   \n",
       "3  KNITTED UNION FLAG HOT WATER BOTTLE         6 2010-12-01 08:26:00   \n",
       "4       RED WOOLLY HOTTIE WHITE HEART.         6 2010-12-01 08:26:00   \n",
       "\n",
       "   UnitPrice  CustomerID         Country  \n",
       "0       2.55     17850.0  United Kingdom  \n",
       "1       3.39     17850.0  United Kingdom  \n",
       "2       2.75     17850.0  United Kingdom  \n",
       "3       3.39     17850.0  United Kingdom  \n",
       "4       3.39     17850.0  United Kingdom  "
      ]
     },
     "execution_count": 43,
     "metadata": {},
     "output_type": "execute_result"
    }
   ],
   "source": [
    "data.head()"
   ]
  },
  {
   "cell_type": "markdown",
   "id": "2d56cba4",
   "metadata": {},
   "source": [
    "# 6. How many orders made by the customers?"
   ]
  },
  {
   "cell_type": "code",
   "execution_count": 44,
   "id": "3522074d",
   "metadata": {},
   "outputs": [
    {
     "data": {
      "text/html": [
       "<div>\n",
       "<style scoped>\n",
       "    .dataframe tbody tr th:only-of-type {\n",
       "        vertical-align: middle;\n",
       "    }\n",
       "\n",
       "    .dataframe tbody tr th {\n",
       "        vertical-align: top;\n",
       "    }\n",
       "\n",
       "    .dataframe thead th {\n",
       "        text-align: right;\n",
       "    }\n",
       "</style>\n",
       "<table border=\"1\" class=\"dataframe\">\n",
       "  <thead>\n",
       "    <tr style=\"text-align: right;\">\n",
       "      <th></th>\n",
       "      <th>CustomerID</th>\n",
       "      <th>Country</th>\n",
       "      <th>InvoiceNo</th>\n",
       "    </tr>\n",
       "  </thead>\n",
       "  <tbody>\n",
       "    <tr>\n",
       "      <th>0</th>\n",
       "      <td>12346.0</td>\n",
       "      <td>United Kingdom</td>\n",
       "      <td>1</td>\n",
       "    </tr>\n",
       "    <tr>\n",
       "      <th>1</th>\n",
       "      <td>12347.0</td>\n",
       "      <td>Iceland</td>\n",
       "      <td>182</td>\n",
       "    </tr>\n",
       "    <tr>\n",
       "      <th>2</th>\n",
       "      <td>12348.0</td>\n",
       "      <td>Finland</td>\n",
       "      <td>31</td>\n",
       "    </tr>\n",
       "    <tr>\n",
       "      <th>3</th>\n",
       "      <td>12349.0</td>\n",
       "      <td>Italy</td>\n",
       "      <td>73</td>\n",
       "    </tr>\n",
       "    <tr>\n",
       "      <th>4</th>\n",
       "      <td>12350.0</td>\n",
       "      <td>Norway</td>\n",
       "      <td>17</td>\n",
       "    </tr>\n",
       "  </tbody>\n",
       "</table>\n",
       "</div>"
      ],
      "text/plain": [
       "   CustomerID         Country  InvoiceNo\n",
       "0     12346.0  United Kingdom          1\n",
       "1     12347.0         Iceland        182\n",
       "2     12348.0         Finland         31\n",
       "3     12349.0           Italy         73\n",
       "4     12350.0          Norway         17"
      ]
     },
     "execution_count": 44,
     "metadata": {},
     "output_type": "execute_result"
    }
   ],
   "source": [
    "data.groupby(by=['CustomerID','Country'], as_index=False)['InvoiceNo'].count().head()"
   ]
  },
  {
   "cell_type": "code",
   "execution_count": 45,
   "id": "66c918d0",
   "metadata": {},
   "outputs": [
    {
     "data": {
      "image/png": "[encoded data removed]",
      "text/plain": [
       "<Figure size 1080x432 with 1 Axes>"
      ]
     },
     "metadata": {
      "needs_background": "light"
     },
     "output_type": "display_data"
    }
   ],
   "source": [
    "orders = data.groupby(by=['CustomerID','Country'], as_index=False)['InvoiceNo'].count()\n",
    "\n",
    "plt.subplots(figsize=(15,6))\n",
    "plt.plot(orders.CustomerID, orders.InvoiceNo)\n",
    "plt.xlabel('Customers ID')\n",
    "plt.ylabel('Number of Orders')\n",
    "plt.title('Number of Orders for different Customers')\n",
    "plt.show()"
   ]
  },
  {
   "cell_type": "markdown",
   "id": "64c52539",
   "metadata": {},
   "source": [
    "# 7. TOP 5 customers with higher number of orders"
   ]
  },
  {
   "cell_type": "code",
   "execution_count": 46,
   "id": "07e0b52d",
   "metadata": {},
   "outputs": [],
   "source": [
    "orders['CustomerID'] = orders['CustomerID'].astype('int64')"
   ]
  },
  {
   "cell_type": "code",
   "execution_count": 47,
   "id": "d0c01461",
   "metadata": {},
   "outputs": [
    {
     "data": {
      "text/html": [
       "<div>\n",
       "<style scoped>\n",
       "    .dataframe tbody tr th:only-of-type {\n",
       "        vertical-align: middle;\n",
       "    }\n",
       "\n",
       "    .dataframe tbody tr th {\n",
       "        vertical-align: top;\n",
       "    }\n",
       "\n",
       "    .dataframe thead th {\n",
       "        text-align: right;\n",
       "    }\n",
       "</style>\n",
       "<table border=\"1\" class=\"dataframe\">\n",
       "  <thead>\n",
       "    <tr style=\"text-align: right;\">\n",
       "      <th></th>\n",
       "      <th>CustomerID</th>\n",
       "      <th>Country</th>\n",
       "      <th>InvoiceNo</th>\n",
       "    </tr>\n",
       "  </thead>\n",
       "  <tbody>\n",
       "    <tr>\n",
       "      <th>2169</th>\n",
       "      <td>15275</td>\n",
       "      <td>United Kingdom</td>\n",
       "      <td>131300</td>\n",
       "    </tr>\n",
       "    <tr>\n",
       "      <th>4028</th>\n",
       "      <td>17841</td>\n",
       "      <td>United Kingdom</td>\n",
       "      <td>7523</td>\n",
       "    </tr>\n",
       "    <tr>\n",
       "      <th>1888</th>\n",
       "      <td>14911</td>\n",
       "      <td>EIRE</td>\n",
       "      <td>5667</td>\n",
       "    </tr>\n",
       "    <tr>\n",
       "      <th>1298</th>\n",
       "      <td>14096</td>\n",
       "      <td>United Kingdom</td>\n",
       "      <td>5111</td>\n",
       "    </tr>\n",
       "    <tr>\n",
       "      <th>334</th>\n",
       "      <td>12748</td>\n",
       "      <td>United Kingdom</td>\n",
       "      <td>4243</td>\n",
       "    </tr>\n",
       "  </tbody>\n",
       "</table>\n",
       "</div>"
      ],
      "text/plain": [
       "      CustomerID         Country  InvoiceNo\n",
       "2169       15275  United Kingdom     131300\n",
       "4028       17841  United Kingdom       7523\n",
       "1888       14911            EIRE       5667\n",
       "1298       14096  United Kingdom       5111\n",
       "334        12748  United Kingdom       4243"
      ]
     },
     "execution_count": 47,
     "metadata": {},
     "output_type": "execute_result"
    }
   ],
   "source": [
    "orders.sort_values(by='InvoiceNo', ascending=False).head()"
   ]
  },
  {
   "cell_type": "markdown",
   "id": "399d9d62",
   "metadata": {},
   "source": [
    "# 8. How much money spent by the customers?"
   ]
  },
  {
   "cell_type": "code",
   "execution_count": 48,
   "id": "6e163dfe",
   "metadata": {},
   "outputs": [],
   "source": [
    "data['Amount_Spent'] = data['Quantity'] * data['UnitPrice']"
   ]
  },
  {
   "cell_type": "code",
   "execution_count": 49,
   "id": "3e793786",
   "metadata": {},
   "outputs": [
    {
     "data": {
      "image/png": "[encoded data removed]",
      "text/plain": [
       "<Figure size 1080x432 with 1 Axes>"
      ]
     },
     "metadata": {
      "needs_background": "light"
     },
     "output_type": "display_data"
    }
   ],
   "source": [
    "money_spent = data.groupby(by=['CustomerID','Country'], as_index=False)['Amount_Spent'].sum()\n",
    "\n",
    "plt.subplots(figsize=(15,6))\n",
    "plt.plot(money_spent.CustomerID, money_spent.Amount_Spent)\n",
    "plt.xlabel('Customers ID')\n",
    "plt.ylabel('Money spent (Dollar)')\n",
    "plt.title('Money Spent for different Customers')\n",
    "plt.show()"
   ]
  },
  {
   "cell_type": "code",
   "execution_count": 50,
   "id": "595ae5c6",
   "metadata": {},
   "outputs": [
    {
     "data": {
      "text/html": [
       "<div>\n",
       "<style scoped>\n",
       "    .dataframe tbody tr th:only-of-type {\n",
       "        vertical-align: middle;\n",
       "    }\n",
       "\n",
       "    .dataframe tbody tr th {\n",
       "        vertical-align: top;\n",
       "    }\n",
       "\n",
       "    .dataframe thead th {\n",
       "        text-align: right;\n",
       "    }\n",
       "</style>\n",
       "<table border=\"1\" class=\"dataframe\">\n",
       "  <thead>\n",
       "    <tr style=\"text-align: right;\">\n",
       "      <th></th>\n",
       "      <th>InvoiceNo</th>\n",
       "      <th>StockCode</th>\n",
       "      <th>Year_month</th>\n",
       "      <th>Month</th>\n",
       "      <th>Day</th>\n",
       "      <th>Hour</th>\n",
       "      <th>Description</th>\n",
       "      <th>Quantity</th>\n",
       "      <th>InvoiceDate</th>\n",
       "      <th>UnitPrice</th>\n",
       "      <th>CustomerID</th>\n",
       "      <th>Country</th>\n",
       "      <th>Amount_Spent</th>\n",
       "    </tr>\n",
       "  </thead>\n",
       "  <tbody>\n",
       "    <tr>\n",
       "      <th>0</th>\n",
       "      <td>536365</td>\n",
       "      <td>85123A</td>\n",
       "      <td>201012</td>\n",
       "      <td>12</td>\n",
       "      <td>3</td>\n",
       "      <td>8</td>\n",
       "      <td>WHITE HANGING HEART T-LIGHT HOLDER</td>\n",
       "      <td>6</td>\n",
       "      <td>2010-12-01 08:26:00</td>\n",
       "      <td>2.55</td>\n",
       "      <td>17850.0</td>\n",
       "      <td>United Kingdom</td>\n",
       "      <td>15.30</td>\n",
       "    </tr>\n",
       "    <tr>\n",
       "      <th>1</th>\n",
       "      <td>536365</td>\n",
       "      <td>71053</td>\n",
       "      <td>201012</td>\n",
       "      <td>12</td>\n",
       "      <td>3</td>\n",
       "      <td>8</td>\n",
       "      <td>WHITE METAL LANTERN</td>\n",
       "      <td>6</td>\n",
       "      <td>2010-12-01 08:26:00</td>\n",
       "      <td>3.39</td>\n",
       "      <td>17850.0</td>\n",
       "      <td>United Kingdom</td>\n",
       "      <td>20.34</td>\n",
       "    </tr>\n",
       "    <tr>\n",
       "      <th>2</th>\n",
       "      <td>536365</td>\n",
       "      <td>84406B</td>\n",
       "      <td>201012</td>\n",
       "      <td>12</td>\n",
       "      <td>3</td>\n",
       "      <td>8</td>\n",
       "      <td>CREAM CUPID HEARTS COAT HANGER</td>\n",
       "      <td>8</td>\n",
       "      <td>2010-12-01 08:26:00</td>\n",
       "      <td>2.75</td>\n",
       "      <td>17850.0</td>\n",
       "      <td>United Kingdom</td>\n",
       "      <td>22.00</td>\n",
       "    </tr>\n",
       "    <tr>\n",
       "      <th>3</th>\n",
       "      <td>536365</td>\n",
       "      <td>84029G</td>\n",
       "      <td>201012</td>\n",
       "      <td>12</td>\n",
       "      <td>3</td>\n",
       "      <td>8</td>\n",
       "      <td>KNITTED UNION FLAG HOT WATER BOTTLE</td>\n",
       "      <td>6</td>\n",
       "      <td>2010-12-01 08:26:00</td>\n",
       "      <td>3.39</td>\n",
       "      <td>17850.0</td>\n",
       "      <td>United Kingdom</td>\n",
       "      <td>20.34</td>\n",
       "    </tr>\n",
       "    <tr>\n",
       "      <th>4</th>\n",
       "      <td>536365</td>\n",
       "      <td>84029E</td>\n",
       "      <td>201012</td>\n",
       "      <td>12</td>\n",
       "      <td>3</td>\n",
       "      <td>8</td>\n",
       "      <td>RED WOOLLY HOTTIE WHITE HEART.</td>\n",
       "      <td>6</td>\n",
       "      <td>2010-12-01 08:26:00</td>\n",
       "      <td>3.39</td>\n",
       "      <td>17850.0</td>\n",
       "      <td>United Kingdom</td>\n",
       "      <td>20.34</td>\n",
       "    </tr>\n",
       "  </tbody>\n",
       "</table>\n",
       "</div>"
      ],
      "text/plain": [
       "  InvoiceNo StockCode  Year_month  Month  Day  Hour  \\\n",
       "0    536365    85123A      201012     12    3     8   \n",
       "1    536365     71053      201012     12    3     8   \n",
       "2    536365    84406B      201012     12    3     8   \n",
       "3    536365    84029G      201012     12    3     8   \n",
       "4    536365    84029E      201012     12    3     8   \n",
       "\n",
       "                           Description  Quantity         InvoiceDate  \\\n",
       "0   WHITE HANGING HEART T-LIGHT HOLDER         6 2010-12-01 08:26:00   \n",
       "1                  WHITE METAL LANTERN         6 2010-12-01 08:26:00   \n",
       "2       CREAM CUPID HEARTS COAT HANGER         8 2010-12-01 08:26:00   \n",
       "3  KNITTED UNION FLAG HOT WATER BOTTLE         6 2010-12-01 08:26:00   \n",
       "4       RED WOOLLY HOTTIE WHITE HEART.         6 2010-12-01 08:26:00   \n",
       "\n",
       "   UnitPrice  CustomerID         Country  Amount_Spent  \n",
       "0       2.55     17850.0  United Kingdom         15.30  \n",
       "1       3.39     17850.0  United Kingdom         20.34  \n",
       "2       2.75     17850.0  United Kingdom         22.00  \n",
       "3       3.39     17850.0  United Kingdom         20.34  \n",
       "4       3.39     17850.0  United Kingdom         20.34  "
      ]
     },
     "execution_count": 50,
     "metadata": {},
     "output_type": "execute_result"
    }
   ],
   "source": [
    "data.head()"
   ]
  },
  {
   "cell_type": "markdown",
   "id": "2bef4835",
   "metadata": {},
   "source": [
    "# 9. TOP 5 customers with highest money spent"
   ]
  },
  {
   "cell_type": "code",
   "execution_count": 51,
   "id": "43db22e5",
   "metadata": {},
   "outputs": [
    {
     "data": {
      "text/html": [
       "<div>\n",
       "<style scoped>\n",
       "    .dataframe tbody tr th:only-of-type {\n",
       "        vertical-align: middle;\n",
       "    }\n",
       "\n",
       "    .dataframe tbody tr th {\n",
       "        vertical-align: top;\n",
       "    }\n",
       "\n",
       "    .dataframe thead th {\n",
       "        text-align: right;\n",
       "    }\n",
       "</style>\n",
       "<table border=\"1\" class=\"dataframe\">\n",
       "  <thead>\n",
       "    <tr style=\"text-align: right;\">\n",
       "      <th></th>\n",
       "      <th>CustomerID</th>\n",
       "      <th>Country</th>\n",
       "      <th>Amount_Spent</th>\n",
       "    </tr>\n",
       "  </thead>\n",
       "  <tbody>\n",
       "    <tr>\n",
       "      <th>2169</th>\n",
       "      <td>15275.108517</td>\n",
       "      <td>United Kingdom</td>\n",
       "      <td>1.694486e+06</td>\n",
       "    </tr>\n",
       "    <tr>\n",
       "      <th>1698</th>\n",
       "      <td>14646.000000</td>\n",
       "      <td>Netherlands</td>\n",
       "      <td>2.802060e+05</td>\n",
       "    </tr>\n",
       "    <tr>\n",
       "      <th>4219</th>\n",
       "      <td>18102.000000</td>\n",
       "      <td>United Kingdom</td>\n",
       "      <td>2.596573e+05</td>\n",
       "    </tr>\n",
       "    <tr>\n",
       "      <th>3746</th>\n",
       "      <td>17450.000000</td>\n",
       "      <td>United Kingdom</td>\n",
       "      <td>1.942308e+05</td>\n",
       "    </tr>\n",
       "    <tr>\n",
       "      <th>3026</th>\n",
       "      <td>16446.000000</td>\n",
       "      <td>United Kingdom</td>\n",
       "      <td>1.684725e+05</td>\n",
       "    </tr>\n",
       "  </tbody>\n",
       "</table>\n",
       "</div>"
      ],
      "text/plain": [
       "        CustomerID         Country  Amount_Spent\n",
       "2169  15275.108517  United Kingdom  1.694486e+06\n",
       "1698  14646.000000     Netherlands  2.802060e+05\n",
       "4219  18102.000000  United Kingdom  2.596573e+05\n",
       "3746  17450.000000  United Kingdom  1.942308e+05\n",
       "3026  16446.000000  United Kingdom  1.684725e+05"
      ]
     },
     "execution_count": 51,
     "metadata": {},
     "output_type": "execute_result"
    }
   ],
   "source": [
    "money_spent.sort_values(by='Amount_Spent', ascending=False).head()"
   ]
  },
  {
   "cell_type": "markdown",
   "id": "db90ffa3",
   "metadata": {},
   "source": [
    "# 10. How many orders per month?"
   ]
  },
  {
   "cell_type": "code",
   "execution_count": 52,
   "id": "76c28b85",
   "metadata": {},
   "outputs": [
    {
     "data": {
      "image/png": "[encoded data removed]",
      "text/plain": [
       "<Figure size 1080x432 with 1 Axes>"
      ]
     },
     "metadata": {
      "needs_background": "light"
     },
     "output_type": "display_data"
    }
   ],
   "source": [
    "ax = data.groupby('InvoiceNo')['Year_month'].unique().value_counts().sort_index().plot(kind='bar',figsize=(15,6))\n",
    "ax.set_xlabel('Month',fontsize=15)\n",
    "ax.set_ylabel('Number of Orders',fontsize=15)\n",
    "ax.set_title('Number of orders for different Months (1st Dec 2010 - 9th Dec 2011)',fontsize=15)\n",
    "ax.set_xticklabels(('Dec_10','Jan_11','Feb_11','Mar_11','Apr_11','May_11','Jun_11','July_11','Aug_11','Sep_11','Oct_11','Nov_11','Dec_11'), rotation='horizontal', fontsize=13)\n",
    "plt.show()"
   ]
  },
  {
   "cell_type": "code",
   "execution_count": 53,
   "id": "9cece292",
   "metadata": {},
   "outputs": [],
   "source": [
    "ax = data.groupby('InvoiceNo')['Year_month'].unique().value_counts().sort_index()"
   ]
  },
  {
   "cell_type": "code",
   "execution_count": 54,
   "id": "06f6ceb9",
   "metadata": {},
   "outputs": [
    {
     "name": "stdout",
     "output_type": "stream",
     "text": [
      "<class 'pandas.core.frame.DataFrame'>\n",
      "Int64Index: 520615 entries, 0 to 541908\n",
      "Data columns (total 13 columns):\n",
      " #   Column        Non-Null Count   Dtype         \n",
      "---  ------        --------------   -----         \n",
      " 0   InvoiceNo     520615 non-null  object        \n",
      " 1   StockCode     520615 non-null  object        \n",
      " 2   Year_month    520615 non-null  int64         \n",
      " 3   Month         520615 non-null  int64         \n",
      " 4   Day           520615 non-null  int64         \n",
      " 5   Hour          520615 non-null  int64         \n",
      " 6   Description   520615 non-null  object        \n",
      " 7   Quantity      520615 non-null  int64         \n",
      " 8   InvoiceDate   520615 non-null  datetime64[ns]\n",
      " 9   UnitPrice     520615 non-null  float64       \n",
      " 10  CustomerID    520615 non-null  float64       \n",
      " 11  Country       520615 non-null  object        \n",
      " 12  Amount_Spent  520615 non-null  float64       \n",
      "dtypes: datetime64[ns](1), float64(3), int64(5), object(4)\n",
      "memory usage: 55.6+ MB\n"
     ]
    }
   ],
   "source": [
    "data.info()"
   ]
  },
  {
   "cell_type": "markdown",
   "id": "f4d42975",
   "metadata": {},
   "source": [
    "# 11. How many orders per day?"
   ]
  },
  {
   "cell_type": "code",
   "execution_count": 55,
   "id": "f5016d41",
   "metadata": {},
   "outputs": [
    {
     "data": {
      "text/plain": [
       "InvoiceNo  Day\n",
       "536365     3       7\n",
       "536366     3       2\n",
       "536367     3      12\n",
       "536368     3       4\n",
       "536369     3       1\n",
       "                  ..\n",
       "581586     5       4\n",
       "581587     5      15\n",
       "A563185    5       1\n",
       "A563186    5       1\n",
       "A563187    5       1\n",
       "Name: Day, Length: 20134, dtype: int64"
      ]
     },
     "execution_count": 55,
     "metadata": {},
     "output_type": "execute_result"
    }
   ],
   "source": [
    "ax = data.groupby('InvoiceNo')['Day'].value_counts()\n",
    "ax"
   ]
  },
  {
   "cell_type": "code",
   "execution_count": 56,
   "id": "24056bcc",
   "metadata": {},
   "outputs": [],
   "source": [
    "ax = data.groupby('InvoiceNo')['Day'].unique().value_counts()\n",
    "#.value_counts().sort_index()"
   ]
  },
  {
   "cell_type": "code",
   "execution_count": 57,
   "id": "28a8cc49",
   "metadata": {},
   "outputs": [
    {
     "data": {
      "image/png": "[encoded data removed]",
      "text/plain": [
       "<Figure size 1080x432 with 1 Axes>"
      ]
     },
     "metadata": {
      "needs_background": "light"
     },
     "output_type": "display_data"
    }
   ],
   "source": [
    "ax = data.groupby('InvoiceNo')['Day'].unique().value_counts().sort_index().plot(kind='bar',figsize=(15,6))\n",
    "ax.set_xlabel('Day',fontsize=15)\n",
    "ax.set_ylabel('Number of Orders',fontsize=15)\n",
    "ax.set_title('Number of orders for different Days',fontsize=15)\n",
    "ax.set_xticklabels(('Mon','Tue','Wed','Thur','Fri','Sun'), rotation='horizontal', fontsize=15)\n",
    "plt.show()"
   ]
  },
  {
   "cell_type": "markdown",
   "id": "3ab6f01a",
   "metadata": {},
   "source": [
    "# 12. How many orders per hour?"
   ]
  },
  {
   "cell_type": "code",
   "execution_count": 58,
   "id": "db6dc37b",
   "metadata": {},
   "outputs": [],
   "source": [
    "a=data['Hour'].value_counts().sort_index()"
   ]
  },
  {
   "cell_type": "code",
   "execution_count": 63,
   "id": "0ca858c6",
   "metadata": {},
   "outputs": [],
   "source": [
    "x= data.groupby('InvoiceNo')['Hour'].unique().value_counts()\n",
    "\n",
    "#value_counts().sort_index()"
   ]
  },
  {
   "cell_type": "code",
   "execution_count": 66,
   "id": "ccf1308d",
   "metadata": {},
   "outputs": [
    {
     "data": {
      "image/png": "[encoded data removed]",
      "text/plain": [
       "<Figure size 1080x432 with 1 Axes>"
      ]
     },
     "metadata": {
      "needs_background": "light"
     },
     "output_type": "display_data"
    }
   ],
   "source": [
    "ax= data.groupby('InvoiceNo')[\"Hour\"].unique().value_counts().plot(kind='bar',figsize=(15,6))\n",
    "ax.set_xlabel('Hour',fontsize=15)\n",
    "ax.set_ylabel('Number of Orders',fontsize=15)\n",
    "ax.set_title('Number of orders for different Hours',fontsize=15)\n",
    "ax.set_xticklabels(range(6,22), rotation='horizontal', fontsize=15)\n",
    "plt.show()"
   ]
  },
  {
   "cell_type": "markdown",
   "id": "0d7ed56f",
   "metadata": {},
   "source": [
    "# 13. How many orders for each country?"
   ]
  },
  {
   "cell_type": "code",
   "execution_count": 67,
   "id": "b93ca6d6",
   "metadata": {},
   "outputs": [
    {
     "data": {
      "text/plain": [
       "Country\n",
       "Saudi Arabia                 9\n",
       "Bahrain                     18\n",
       "Czech Republic              25\n",
       "Brazil                      32\n",
       "Lithuania                   35\n",
       "Lebanon                     45\n",
       "RSA                         58\n",
       "European Community          60\n",
       "United Arab Emirates        68\n",
       "Malta                      112\n",
       "Greece                     145\n",
       "Canada                     151\n",
       "USA                        179\n",
       "Iceland                    182\n",
       "Singapore                  222\n",
       "Hong Kong                  276\n",
       "Israel                     289\n",
       "Japan                      321\n",
       "Poland                     330\n",
       "Denmark                    380\n",
       "Austria                    398\n",
       "Unspecified                438\n",
       "Sweden                     449\n",
       "Cyprus                     593\n",
       "Finland                    685\n",
       "Channel Islands            746\n",
       "Italy                      758\n",
       "Norway                    1072\n",
       "Australia                 1183\n",
       "Portugal                  1484\n",
       "Switzerland               1951\n",
       "Belgium                   2031\n",
       "Netherlands               2363\n",
       "Spain                     2475\n",
       "EIRE                      7872\n",
       "France                    8378\n",
       "Germany                   9012\n",
       "United Kingdom          475790\n",
       "Name: InvoiceNo, dtype: int64"
      ]
     },
     "execution_count": 67,
     "metadata": {},
     "output_type": "execute_result"
    }
   ],
   "source": [
    "group_country_orders = data.groupby('Country')['InvoiceNo'].count().sort_values()\n",
    "group_country_orders\n"
   ]
  },
  {
   "cell_type": "code",
   "execution_count": 68,
   "id": "5fb0574b",
   "metadata": {},
   "outputs": [
    {
     "data": {
      "image/png": "[encoded data removed]",
      "text/plain": [
       "<Figure size 1080x576 with 1 Axes>"
      ]
     },
     "metadata": {
      "needs_background": "light"
     },
     "output_type": "display_data"
    }
   ],
   "source": [
    "group_country_orders = data.groupby('Country')['InvoiceNo'].count().sort_values()\n",
    "\n",
    "# plot number of unique customers in each country (with UK)\n",
    "plt.subplots(figsize=(15,8))\n",
    "group_country_orders.plot(kind='barh', fontsize=12)\n",
    "plt.xlabel('Number of Orders', fontsize=12)\n",
    "plt.ylabel('Country', fontsize=12)\n",
    "plt.title('Number of Orders for different Countries', fontsize=12)\n",
    "plt.show()"
   ]
  },
  {
   "cell_type": "code",
   "execution_count": 69,
   "id": "33f49d8a",
   "metadata": {},
   "outputs": [
    {
     "data": {
      "image/png": "[encoded data removed]",
      "text/plain": [
       "<Figure size 1080x576 with 1 Axes>"
      ]
     },
     "metadata": {
      "needs_background": "light"
     },
     "output_type": "display_data"
    }
   ],
   "source": [
    "group_country_orders = data.groupby('Country')['InvoiceNo'].count().sort_values()\n",
    "del group_country_orders['United Kingdom']\n",
    "# plot number of unique customers in each country (with UK)\n",
    "plt.subplots(figsize=(15,8))\n",
    "group_country_orders.plot(kind='barh', fontsize=12)\n",
    "plt.xlabel('Number of Orders', fontsize=12)\n",
    "plt.ylabel('Country', fontsize=12)\n",
    "plt.title('Number of Orders for different Countries', fontsize=12)\n",
    "plt.show()"
   ]
  },
  {
   "cell_type": "markdown",
   "id": "8bd9e8d0",
   "metadata": {},
   "source": [
    "# 14. Orders trend across months "
   ]
  },
  {
   "cell_type": "code",
   "execution_count": 70,
   "id": "a00ef6e3",
   "metadata": {},
   "outputs": [
    {
     "data": {
      "image/png": "[encoded data removed]",
      "text/plain": [
       "<Figure size 1080x504 with 2 Axes>"
      ]
     },
     "metadata": {
      "needs_background": "light"
     },
     "output_type": "display_data"
    }
   ],
   "source": [
    "# trend plot\n",
    "fig = plt.figure(figsize=(15, 7))\n",
    "x1 = fig.add_subplot(111)\n",
    "\n",
    "x1.set_xlabel('Month',fontsize=15)\n",
    "x1.set_ylabel('Money spent (Dollar)',fontsize=15)\n",
    "x1.set_title('Total Amount Spent for Months',fontsize=15)\n",
    "\n",
    "x1.bar(data.groupby(by=['Year_month'])['Amount_Spent'].sum().index.tolist()[1:],\n",
    "        data.groupby(by=['Year_month'])['Amount_Spent'].sum()[1:],\n",
    "        alpha=0.85,#If you want to make the graph plot more transparent, then you can make alpha less than 1, such as 0.5 or 0.25.\n",
    "        label='Amount Spent by Month')\n",
    "\n",
    "x2 = x1.twinx()# tread line\n",
    "\n",
    "x2.set_ylabel('Percentage Change of Total Amount Spent (%)',fontsize=15)\n",
    "\n",
    "#pct_change()Percentage change between the current and a prior element.\n",
    "x2.plot(data.groupby(by=['Year_month'])['Amount_Spent'].sum().index.tolist()[1:], \n",
    "         data.groupby(by=['Year_month'])['Amount_Spent'].sum()[1:].pct_change().fillna(0)*100,\n",
    "         label='Percentage change of total amount spent (%)',\n",
    "         color='red')\n",
    "\n",
    "x1.legend(loc='upper left')\n",
    "x2.legend(loc='upper right')\n",
    "\n",
    "fig.tight_layout()\n",
    "plt.show()\n"
   ]
  },
  {
   "cell_type": "markdown",
   "id": "3932abd1",
   "metadata": {},
   "source": [
    "# 15. How much money spent by each country?"
   ]
  },
  {
   "cell_type": "code",
   "execution_count": 74,
   "id": "2aee3ed1",
   "metadata": {},
   "outputs": [
    {
     "data": {
      "image/png": "[encoded data removed]",
      "text/plain": [
       "<Figure size 1080x576 with 1 Axes>"
      ]
     },
     "metadata": {
      "needs_background": "light"
     },
     "output_type": "display_data"
    }
   ],
   "source": [
    "group_country_amount_spent = data.groupby('Country')['Amount_Spent'].sum().sort_values()\n",
    "# del group_country_orders['United Kingdom']\n",
    "\n",
    "# plot total money spent by each country (with UK)\n",
    "plt.subplots(figsize=(15,8))\n",
    "group_country_amount_spent.plot(kind='barh', fontsize=12)\n",
    "plt.xlabel('Money Spent (Dollar)', fontsize=12)\n",
    "plt.ylabel('Country', fontsize=12)\n",
    "plt.title('Money Spent by different Countries', fontsize=12)\n",
    "plt.show()"
   ]
  },
  {
   "cell_type": "code",
   "execution_count": null,
   "id": "93201f36",
   "metadata": {},
   "outputs": [],
   "source": []
  }
 ],
 "metadata": {
  "kernelspec": {
   "display_name": "Python 3",
   "language": "python",
   "name": "python3"
  },
  "language_info": {
   "codemirror_mode": {
    "name": "ipython",
    "version": 3
   },
   "file_extension": ".py",
   "mimetype": "text/x-python",
   "name": "python",
   "nbconvert_exporter": "python",
   "pygments_lexer": "ipython3",
   "version": "3.8.8"
  }
 },
 "nbformat": 4,
 "nbformat_minor": 5
}
